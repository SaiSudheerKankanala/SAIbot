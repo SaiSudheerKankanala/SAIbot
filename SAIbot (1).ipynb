{
  "nbformat": 4,
  "nbformat_minor": 0,
  "metadata": {
    "colab": {
      "provenance": [],
      "gpuType": "T4"
    },
    "kernelspec": {
      "name": "python3",
      "display_name": "Python 3"
    },
    "language_info": {
      "name": "python"
    },
    "accelerator": "GPU"
  },
  "cells": [
    {
      "cell_type": "code",
      "metadata": {
        "id": "ccc9e22a",
        "colab": {
          "base_uri": "https://localhost:8080/"
        },
        "outputId": "bf319e50-a0d1-4025-ebab-b4b09189f039"
      },
      "source": [
        "%pip install -q langchain langchain-community transformers sentence-transformers faiss-cpu requests\n",
        "!pip install pypdf"
      ],
      "execution_count": 1,
      "outputs": [
        {
          "output_type": "stream",
          "name": "stdout",
          "text": [
            "\u001b[2K   \u001b[90m━━━━━━━━━━━━━━━━━━━━━━━━━━━━━━━━━━━━━━━━\u001b[0m \u001b[32m2.5/2.5 MB\u001b[0m \u001b[31m41.1 MB/s\u001b[0m eta \u001b[36m0:00:00\u001b[0m\n",
            "\u001b[2K   \u001b[90m━━━━━━━━━━━━━━━━━━━━━━━━━━━━━━━━━━━━━━━━\u001b[0m \u001b[32m31.4/31.4 MB\u001b[0m \u001b[31m39.8 MB/s\u001b[0m eta \u001b[36m0:00:00\u001b[0m\n",
            "\u001b[2K   \u001b[90m━━━━━━━━━━━━━━━━━━━━━━━━━━━━━━━━━━━━━━━━\u001b[0m \u001b[32m50.9/50.9 kB\u001b[0m \u001b[31m4.7 MB/s\u001b[0m eta \u001b[36m0:00:00\u001b[0m\n",
            "\u001b[?25hCollecting pypdf\n",
            "  Downloading pypdf-6.0.0-py3-none-any.whl.metadata (7.1 kB)\n",
            "Downloading pypdf-6.0.0-py3-none-any.whl (310 kB)\n",
            "\u001b[2K   \u001b[90m━━━━━━━━━━━━━━━━━━━━━━━━━━━━━━━━━━━━━━━━\u001b[0m \u001b[32m310.5/310.5 kB\u001b[0m \u001b[31m17.6 MB/s\u001b[0m eta \u001b[36m0:00:00\u001b[0m\n",
            "\u001b[?25hInstalling collected packages: pypdf\n",
            "Successfully installed pypdf-6.0.0\n"
          ]
        }
      ]
    },
    {
      "cell_type": "code",
      "metadata": {
        "colab": {
          "base_uri": "https://localhost:8080/"
        },
        "id": "76665290",
        "outputId": "bfb48549-1e11-46a4-f2f7-48f3e2ed3719"
      },
      "source": [
        "import requests\n",
        "import tempfile\n",
        "from langchain_community.document_loaders import PyPDFLoader\n",
        "from langchain.text_splitter import RecursiveCharacterTextSplitter\n",
        "from langchain_community.vectorstores import FAISS\n",
        "from langchain_community.embeddings import HuggingFaceEmbeddings\n",
        "from transformers import pipeline\n",
        "\n",
        "# Sources\n",
        "text_sources = {\n",
        "    'I.P.C': 'https://github.com/SaiSudheerKankanala/SAIbot/raw/main/ipc.pdf',\n",
        "    'Constitution': 'https://github.com/SaiSudheerKankanala/SAIbot/raw/main/indian%20constitution.pdf',\n",
        "    'Garuda': 'https://github.com/SaiSudheerKankanala/SAIbot/raw/main/GarudaPurana.pdf',\n",
        "    'Bhagavad Gita': 'https://github.com/SaiSudheerKankanala/SAIbot/raw/main/Bhagavad-gita_As_It_Is.pdf',\n",
        "    'Quran': 'https://github.com/SaiSudheerKankanala/SAIbot/raw/main/quran-allah.pdf'\n",
        "}\n",
        "\n",
        "# Function to download and load PDF\n",
        "def load_pdf(url, source_name):\n",
        "    response = requests.get(url)\n",
        "    response.raise_for_status()\n",
        "    with tempfile.NamedTemporaryFile(delete=False, suffix=\".pdf\") as tmp:\n",
        "        tmp.write(response.content)\n",
        "        tmp_path = tmp.name\n",
        "    loader = PyPDFLoader(tmp_path)\n",
        "    docs = loader.load()\n",
        "    for d in docs:\n",
        "        d.metadata[\"source\"] = source_name\n",
        "    return docs\n",
        "\n",
        "# Load all documents\n",
        "all_docs = {name: load_pdf(url, name) for name, url in text_sources.items()}\n",
        "\n",
        "# Overlapping chunking\n",
        "text_splitter = RecursiveCharacterTextSplitter(\n",
        "    chunk_size=400,   # smaller for better focus\n",
        "    chunk_overlap=50\n",
        ")\n",
        "\n",
        "# Embeddings + VectorDB\n",
        "vector_dbs = {}\n",
        "embedder = HuggingFaceEmbeddings(model_name=\"sentence-transformers/all-MiniLM-L6-v2\")\n",
        "\n",
        "for name, docs in all_docs.items():\n",
        "    chunks = text_splitter.split_documents(docs)\n",
        "    if chunks:\n",
        "        vector_dbs[name] = FAISS.from_documents(chunks, embedding=embedder)\n",
        "\n",
        "# Local answer generator (FLAN-T5)\n",
        "generator = pipeline(\"text2text-generation\", model=\"google/flan-t5-base\")\n",
        "\n",
        "def generate_answer(question, context):\n",
        "    prompt = f\"\"\"\n",
        "    You are a helpful assistant.\n",
        "    Answer the question ONLY if it is clearly answered in the given context.\n",
        "    If the context is unrelated or unclear, respond with exactly: \"Not mentioned in this source.\"\n",
        "\n",
        "    Question: {question}\n",
        "    Context: {context}\n",
        "\n",
        "    Answer:\n",
        "    \"\"\"\n",
        "    return generator(prompt, max_new_tokens=200, clean_up_tokenization_spaces=True)[0]['generated_text']\n",
        "\n",
        "# Main QA function\n",
        "def answer_question(question, k=2):\n",
        "    final_output = []\n",
        "    for source_name in text_sources.keys():\n",
        "        if source_name in vector_dbs:\n",
        "            docs = vector_dbs[source_name].similarity_search(question, k=k)\n",
        "            if docs:\n",
        "                context = \"\\n\\n\".join([doc.page_content for doc in docs])\n",
        "                answer = generate_answer(question, context).strip()\n",
        "                # Only include if real answer\n",
        "                if answer and answer != \"Not mentioned in this source.\":\n",
        "                    final_output.append(f\"According to {source_name.capitalize()}: {answer}\")\n",
        "    return \"\\n\\n\".join(final_output) if final_output else \"No relevant answer found in any source.\"\n",
        "\n",
        "# Chat loop\n",
        "if __name__ == \"__main__\":\n",
        "    while True:\n",
        "        question = input(\"You: \")\n",
        "        if question.lower() in [\"exit\", \"quit\", \"bye\"]:\n",
        "            print(\"Bot: Goodbye!\")\n",
        "            break\n",
        "        print(answer_question(question))\n"
      ],
      "execution_count": 3,
      "outputs": [
        {
          "output_type": "stream",
          "name": "stderr",
          "text": [
            "Device set to use cuda:0\n"
          ]
        },
        {
          "output_type": "stream",
          "name": "stdout",
          "text": [
            "You: Explain the section related to murder in the IPC.\n",
            "According to I.p.c: 1[108A. Abetment in India of offences outside India.—A person abets an offence within the (b) A instigates B to murder D. B in pursuance of the instigation stabs D. D recov ers from the wound. A is guilty of instigating B to commit murder.\n",
            "\n",
            "According to Garuda: 91. If a woman dies in the fulness of pre gnancy, her womb should be cut open, and the child drawn out and placed on the ground, and she alone be burned. 92-93. If a child dies on the bank of the Ganges, it should simply be thrown into the Ganges; if in another place, it should be buried in the ground, up to twenty-seven months old.\n",
            "\n",
            "According to Bhagavad gita: The Vedic injunction is ma himsyat sarva bhutani: never commit violence to anyone. Nor does understanding that the living entity is not killed encourage animal slaughter. Killing the body of anyone without authority is abominable for the great sin he has committed. Therefore, the king's punishment of hanging a murderer is actually beneficial. Similarly, when Krsna orders fighting, it must be concluded that violence is for supreme justice, and, as such, Arjuna should follow the instruction, knowing well that such violence, committed in the act of fighting for Krsna, is actually beneficial. Therefore, the king's punishment of hanging a murderer is actually beneficial. Similarly, when Krsna orders fighting, it must be concluded that violence is for supreme justice, and, as such, Arjuna should follow the instruction, knowing well that such\n",
            "\n",
            "According to Quran: 178. O you who believe! Retaliation for the murdered is ordained upon you: the free for the free, the slave for the slave, the female for the female. But if he is forgiven by his kin, then grant any reasonable demand, and pay with good will. This is a c oncession from Killing them is a grave sin. 32. And do not come near adultery. It is im- moral, and an evil way. 33. And do not kill the soul which Allah has made sacred, except in the course of justice. If someone is killed unjustly, We have given his next of kin certain authority. But he should not be excessive in killing, for he will be supported. 34. And do not go near the orphan’s property,\n",
            "You: exit\n",
            "Bot: Goodbye!\n"
          ]
        }
      ]
    }
  ]
}